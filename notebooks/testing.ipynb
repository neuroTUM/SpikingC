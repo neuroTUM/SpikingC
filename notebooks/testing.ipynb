{
 "cells": [
  {
   "cell_type": "code",
   "execution_count": 1,
   "metadata": {},
   "outputs": [],
   "source": [
    "import pandas as pd\n",
    "\n",
    "df = pd.read_csv('/home/copparihollmann/neuroTUM/SpikingC/SpikingCpp/models/SNN_3L_simple_LIF_NMNIST/weights_and_biases/fc1_weight_weights.csv')"
   ]
  },
  {
   "cell_type": "code",
   "execution_count": 4,
   "metadata": {},
   "outputs": [
    {
     "data": {
      "text/plain": [
       "(577, 2312)"
      ]
     },
     "execution_count": 4,
     "metadata": {},
     "output_type": "execute_result"
    }
   ],
   "source": [
    "df.shape"
   ]
  },
  {
   "cell_type": "code",
   "execution_count": 6,
   "metadata": {},
   "outputs": [],
   "source": [
    "from pathlib import Path\n",
    "import glob\n",
    "\n",
    "def remove_first_line_from_csv(directory):\n",
    "    # Recursively find all CSV files in the given directory and its subdirectories\n",
    "    csv_files = glob.glob(f'{directory}/**/*.csv', recursive=True)\n",
    "    \n",
    "    for csv_file in csv_files:\n",
    "        with open(csv_file, 'r') as file:\n",
    "            lines = file.readlines()\n",
    "        \n",
    "        # Skip the first line and write the rest back to the file\n",
    "        with open(csv_file, 'w') as file:\n",
    "            file.writelines(lines[1:])\n",
    "\n",
    "# Adjust 'intermediate_output' to the correct path if necessary\n",
    "remove_first_line_from_csv('tuki')\n"
   ]
  },
  {
   "cell_type": "code",
   "execution_count": 7,
   "metadata": {},
   "outputs": [],
   "source": [
    "df = pd.read_csv('/home/copparihollmann/neuroTUM/SpikingC/SpikingCpp/models/SNN_3L_simple_LIF_NMNIST/intermediate_outputs/mem1/mem1_timestep_0.csv')"
   ]
  },
  {
   "cell_type": "code",
   "execution_count": 8,
   "metadata": {},
   "outputs": [
    {
     "data": {
      "text/plain": [
       "(0, 578)"
      ]
     },
     "execution_count": 8,
     "metadata": {},
     "output_type": "execute_result"
    }
   ],
   "source": [
    "df.shape"
   ]
  }
 ],
 "metadata": {
  "kernelspec": {
   "display_name": "neuromorphic",
   "language": "python",
   "name": "python3"
  },
  "language_info": {
   "codemirror_mode": {
    "name": "ipython",
    "version": 3
   },
   "file_extension": ".py",
   "mimetype": "text/x-python",
   "name": "python",
   "nbconvert_exporter": "python",
   "pygments_lexer": "ipython3",
   "version": "3.12.2"
  }
 },
 "nbformat": 4,
 "nbformat_minor": 2
}
